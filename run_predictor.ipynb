{
 "cells": [
  {
   "cell_type": "markdown",
   "id": "6fe64437-7f3d-46ed-bfc2-5a61df63ce2e",
   "metadata": {},
   "source": [
    "<center><h1>Run this file to use the model for prediction</h1></center>"
   ]
  },
  {
   "cell_type": "code",
   "execution_count": 1,
   "id": "26577078-3bfa-499b-8948-5f9b1e91a333",
   "metadata": {},
   "outputs": [],
   "source": [
    "# Import necessary libraries\n",
    "import pandas as pd\n",
    "import numpy as np\n",
    "import joblib\n",
    "import warnings\n",
    "warnings.filterwarnings(\"ignore\", message=\"X does not have valid feature names\")\n"
   ]
  },
  {
   "cell_type": "code",
   "execution_count": 2,
   "id": "eac5e14e-a35f-472f-ac25-fa4392d0bf9a",
   "metadata": {},
   "outputs": [
    {
     "name": "stdout",
     "output_type": "stream",
     "text": [
      "Enter feature values for prediction:\n"
     ]
    },
    {
     "name": "stdin",
     "output_type": "stream",
     "text": [
      "Enter value for User_ID:  1\n",
      "Enter value for Age:  20\n",
      "Enter value for Height:  166\n",
      "Enter value for Weight:  65\n",
      "Enter value for Duration:  120\n",
      "Enter value for Heart_Rate:  95\n",
      "Enter value for Body_Temp:  42\n",
      "Enter value for Gender_male:  0\n"
     ]
    },
    {
     "name": "stdout",
     "output_type": "stream",
     "text": [
      "Predicted value: 140.7\n"
     ]
    }
   ],
   "source": [
    "# Load the saved model for prediction\n",
    "loaded_model = joblib.load('random_forest_calories_model.pkl')\n",
    "\n",
    "# Example: Predict based on user input\n",
    "def predict_from_user_input():\n",
    "    # Prepare input feature names\n",
    "    input_features = ['User_ID','Age','Height','Weight','Duration','Heart_Rate','Body_Temp','Gender_male']\n",
    "    \n",
    "    # Ask user for input feature values\n",
    "    print(\"Enter feature values for prediction:\")\n",
    "    user_input = []\n",
    "    for feature in input_features:\n",
    "        value = input(f\"Enter value for {feature}: \")\n",
    "        try:\n",
    "            value = float(value)  # Convert numeric features to float\n",
    "        except ValueError:\n",
    "            # For categorical features, ensure the input matches the encoding\n",
    "            value = 1 if value.lower() in ['male', 'yes', 'true'] else 0\n",
    "        user_input.append(value)\n",
    "    \n",
    "    # Convert input to NumPy array and reshape\n",
    "    user_input = np.array(user_input).reshape(1, -1)\n",
    "    \n",
    "    # Make prediction\n",
    "    prediction = loaded_model.predict(user_input)\n",
    "    print(f\"Predicted value: {prediction[0]}\")\n",
    "\n",
    "# Call the prediction function\n",
    "predict_from_user_input()"
   ]
  },
  {
   "cell_type": "code",
   "execution_count": null,
   "id": "742a7114-f870-412d-be37-d89514931894",
   "metadata": {},
   "outputs": [],
   "source": []
  }
 ],
 "metadata": {
  "kernelspec": {
   "display_name": "Python 3 (ipykernel)",
   "language": "python",
   "name": "python3"
  },
  "language_info": {
   "codemirror_mode": {
    "name": "ipython",
    "version": 3
   },
   "file_extension": ".py",
   "mimetype": "text/x-python",
   "name": "python",
   "nbconvert_exporter": "python",
   "pygments_lexer": "ipython3",
   "version": "3.13.0"
  }
 },
 "nbformat": 4,
 "nbformat_minor": 5
}
